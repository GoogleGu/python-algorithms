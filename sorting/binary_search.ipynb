{
 "cells": [
  {
   "cell_type": "markdown",
   "metadata": {
    "collapsed": true,
    "pycharm": {
     "is_executing": false
    }
   },
   "source": [
    "# Binary Search 二分查找"
   ]
  },
  {
   "cell_type": "markdown",
   "metadata": {},
   "source": [
    "二分查找是最基本的算法，利用待处理的数据有序的特性进行快速查找，避免了从头到尾的遍历。\n",
    "\n",
    "## 算法步骤\n",
    "二分查找解决的问题是在一个有序数组中，快速找到某个值所在的位置。由于这个数组是有序的，我们可以去查看数组中间的值，如果不是我们要的数，这时数组被分为两部分，较大的一部分和较小的一部分，我们再去包含我们要找的值的那一部分重复刚才的步骤，直到我们找到我们需要的值，或是查找到最后细分的数组中只剩一个值，且还不是我们要找的值了为止。\n",
    "\n",
    "## 例子\n",
    "举个例子，我们有一个数组：[1,2,3,4,5,6,9]\n",
    "假如我们想找的是6，首先查看数组最中间的元素，也就是4，不是我们想要的，那么此时数组被分为两部分，1到3和5到7，我们的6明显比4大，因此我们取后面的数组作为我们想要继续查找的数组。\n",
    "重复查看中间元素的操作，我们看的是6，就是我们要的值，将其下标输出。\n",
    "如果我们想找的是8的话，首先查看数组最中间的元素，也就是4，不是我们想要的，那么此时数组被分为两部分，1到3和5到7，我们的8明显比4大，因此我们取后面的数组[5,6,9]作为我们想要继续查找的数组。\n",
    "重复查看中间元素的操作，我们看的是6，比我们想要的小，那么我们取中分后后面一部分数组，也就是[9]，这时候数组只剩一个元素了，我们只要查看一下这个元素是不是我们想要的就可以，而9不是我们想要的8，至此算法结束，输出结果是数组里不存在我们想找的数字。\n",
    "\n",
    "## 算法分析\n",
    "二分查找是一个典型的分治算法，其算法复杂度为O(logN)，其前提是输入的数组按照一定的规律进行了排序。\n"
   ]
  },
  {
   "cell_type": "markdown",
   "metadata": {},
   "source": [
    "## 代码实现"
   ]
  },
  {
   "cell_type": "code",
   "execution_count": null,
   "metadata": {},
   "outputs": [],
   "source": [
    "def binary_search(data, x):\n",
    "    \"\"\"\n",
    "    在输入的data有序序列二分查找x，返回值为x的下标，如果没有找到则返回None\n",
    "    假设输入是按升序排列的。\n",
    "    \"\"\"\n",
    "    start = 0\n",
    "    end = len(data)-1\n",
    "    \n",
    "    while end - start >= 0:\n",
    "        mid = (start + end) // 2\n",
    "        if data[mid] == x:\n",
    "            return mid\n",
    "        elif data[mid] > x:\n",
    "            end = mid + 1\n",
    "        else:\n",
    "            start = mid - 1\n",
    "    return -1"
   ]
  },
  {
   "cell_type": "code",
   "execution_count": null,
   "metadata": {},
   "outputs": [],
   "source": [
    "data = [1,2,3,4,5,6,9]\n",
    "binary_search(data, 9)"
   ]
  }
 ],
 "metadata": {
  "kernelspec": {
   "display_name": "Python 3",
   "language": "python",
   "name": "python3"
  },
  "language_info": {
   "codemirror_mode": {
    "name": "ipython",
    "version": 3
   },
   "file_extension": ".py",
   "mimetype": "text/x-python",
   "name": "python",
   "nbconvert_exporter": "python",
   "pygments_lexer": "ipython3",
   "version": "3.5.4"
  }
 },
 "nbformat": 4,
 "nbformat_minor": 1
}
